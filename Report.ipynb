{
 "cells": [
  {
   "cell_type": "markdown",
   "metadata": {},
   "source": [
    "# Udacity Deep Reinforcement Learning Nanodegree Continuous Control Project"
   ]
  },
  {
   "cell_type": "markdown",
   "metadata": {},
   "source": [
    "# Method\n",
    "\n",
    "<img src=\"https://static.wixstatic.com/media/eebf4a_fea65753056c41ee9c02e4d402ef922c~mv2.png/v1/fill/w_240,h_216/eebf4a_fea65753056c41ee9c02e4d402ef922c~mv2.png\">"
   ]
  },
  {
   "cell_type": "markdown",
   "metadata": {},
   "source": [
    "## Neural network architecture\n",
    "\n",
    "<img src=\"https://static.wixstatic.com/media/eebf4a_fea65753056c41ee9c02e4d402ef922c~mv2.png/v1/fill/w_240,h_216/eebf4a_fea65753056c41ee9c02e4d402ef922c~mv2.png\">"
   ]
  },
  {
   "cell_type": "markdown",
   "metadata": {},
   "source": [
    "## Hyper-parameters\n",
    "\n",
    "<img src=\"https://static.wixstatic.com/media/eebf4a_fea65753056c41ee9c02e4d402ef922c~mv2.png/v1/fill/w_240,h_216/eebf4a_fea65753056c41ee9c02e4d402ef922c~mv2.png\">"
   ]
  },
  {
   "cell_type": "markdown",
   "metadata": {},
   "source": [
    "# Implementation\n",
    "\n",
    "## Initial setup\n",
    "\n",
    "Please follow the instructions of `README.md` (found in the same root folder as the present notebook) to install the required packages and download the game environment."
   ]
  },
  {
   "cell_type": "markdown",
   "metadata": {},
   "source": [
    "## Imports\n",
    "\n",
    "The following packages are required for the notebook to work."
   ]
  },
  {
   "cell_type": "code",
   "execution_count": 1,
   "metadata": {},
   "outputs": [],
   "source": [
    "import numpy as np\n",
    "\n",
    "from IPython.display import Audio\n",
    "from unityagents import UnityEnvironment"
   ]
  },
  {
   "cell_type": "markdown",
   "metadata": {},
   "source": [
    "## Unity Environment\n",
    "\n",
    "Modify the next line so that the `file_name` parameter matches the location of the Unity environment you downloaded."
   ]
  },
  {
   "cell_type": "code",
   "execution_count": 2,
   "metadata": {},
   "outputs": [
    {
     "name": "stderr",
     "output_type": "stream",
     "text": [
      "INFO:unityagents:\n",
      "'Academy' started successfully!\n",
      "Unity Academy name: Academy\n",
      "        Number of Brains: 1\n",
      "        Number of External Brains : 1\n",
      "        Lesson number : 0\n",
      "        Reset Parameters :\n",
      "\t\tgoal_speed -> 1.0\n",
      "\t\tgoal_size -> 5.0\n",
      "Unity brain name: ReacherBrain\n",
      "        Number of Visual Observations (per agent): 0\n",
      "        Vector Observation space type: continuous\n",
      "        Vector Observation space size (per agent): 33\n",
      "        Number of stacked Vector Observation: 1\n",
      "        Vector Action space type: continuous\n",
      "        Vector Action space size (per agent): 4\n",
      "        Vector Action descriptions: , , , \n"
     ]
    }
   ],
   "source": [
    "env = UnityEnvironment(file_name=\"Reacher_Windows_x86_64/Reacher.exe\")"
   ]
  },
  {
   "cell_type": "markdown",
   "metadata": {},
   "source": [
    "An empty Unity window should have opened. If you switch to it during training or testing, you will be able to watch the agent in action.\n",
    "\n",
    "**Note**: if the environment is set to training mode, the action will be so fast, it might be uncomfortable to watch.\n",
    "\n",
    "Once the environment is launched, we need to connect to it via a *brain name*. In some Unity environments, there are more than one brain/agent to control, but in the present case, there is only one."
   ]
  },
  {
   "cell_type": "code",
   "execution_count": 3,
   "metadata": {},
   "outputs": [],
   "source": [
    "# Connect to the default (and only) brain\n",
    "brain_name = env.brain_names[0]\n",
    "brain = env.brains[brain_name]"
   ]
  },
  {
   "cell_type": "markdown",
   "metadata": {},
   "source": [
    "## Random Agent\n",
    "\n",
    "The following random agent was provided by Udacity as a way to check the environment is properly setup."
   ]
  },
  {
   "cell_type": "code",
   "execution_count": 4,
   "metadata": {
    "scrolled": true
   },
   "outputs": [
    {
     "name": "stdout",
     "output_type": "stream",
     "text": [
      "Total score (averaged over agents) this episode: 0.15949999643489718\n"
     ]
    },
    {
     "data": {
      "text/html": [
       "\n",
       "                <audio  controls=\"controls\" autoplay=\"autoplay\">\n",
       "                    <source src=\"data:audio/wav;base64,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\" type=\"audio/wav\" />\n",
       "                    Your browser does not support the audio element.\n",
       "                </audio>\n",
       "              "
      ],
      "text/plain": [
       "<IPython.lib.display.Audio object>"
      ]
     },
     "execution_count": 4,
     "metadata": {},
     "output_type": "execute_result"
    }
   ],
   "source": [
    "env_info = env.reset(train_mode=False)[brain_name]     # reset the environment    \n",
    "num_agents = len(env_info.agents)                      # number of agents\n",
    "action_size = brain.vector_action_space_size           # size of each action\n",
    "states = env_info.vector_observations                  # get the current state (for each agent)\n",
    "scores = np.zeros(num_agents)                          # initialize the score (for each agent)\n",
    "while True:\n",
    "    actions = np.random.randn(num_agents, action_size) # select an action (for each agent)\n",
    "    actions = np.clip(actions, -1, 1)                  # all actions between -1 and 1\n",
    "    env_info = env.step(actions)[brain_name]           # send all actions to tne environment\n",
    "    next_states = env_info.vector_observations         # get next state (for each agent)\n",
    "    rewards = env_info.rewards                         # get reward (for each agent)\n",
    "    dones = env_info.local_done                        # see if episode finished\n",
    "    scores += env_info.rewards                         # update the score (for each agent)\n",
    "    states = next_states                               # roll over states to next time step\n",
    "    if np.any(dones):                                  # exit loop if episode finished\n",
    "        break\n",
    "print('Total score (averaged over agents) this episode: {}'.format(np.mean(scores)))\n",
    "Audio('notification.wav', autoplay=True)"
   ]
  },
  {
   "cell_type": "markdown",
   "metadata": {},
   "source": [
    "## Closing the Unity Environment"
   ]
  },
  {
   "cell_type": "code",
   "execution_count": 5,
   "metadata": {},
   "outputs": [],
   "source": [
    "env.close()"
   ]
  },
  {
   "cell_type": "markdown",
   "metadata": {},
   "source": [
    "# Conclusion\n",
    "\n",
    "<img src=\"https://static.wixstatic.com/media/eebf4a_fea65753056c41ee9c02e4d402ef922c~mv2.png/v1/fill/w_240,h_216/eebf4a_fea65753056c41ee9c02e4d402ef922c~mv2.png\">"
   ]
  },
  {
   "cell_type": "markdown",
   "metadata": {},
   "source": [
    "# References\n",
    "\n",
    "<img src=\"https://static.wixstatic.com/media/eebf4a_fea65753056c41ee9c02e4d402ef922c~mv2.png/v1/fill/w_240,h_216/eebf4a_fea65753056c41ee9c02e4d402ef922c~mv2.png\">"
   ]
  },
  {
   "cell_type": "markdown",
   "metadata": {},
   "source": [
    "# Credits\n",
    "\n",
    "- The neural network architecture diagram was generated with [NN SVG](http://alexlenail.me/NN-SVG/index.html) then edited with [Inkscape](https://inkscape.org/)\n",
    "- The GIF recordings were made with [ScreenToGif](https://www.screentogif.com/)\n",
    "- The notification sound was found on [WavSource.com](http://www.wavsource.com/video_games/pac-man.htm)"
   ]
  }
 ],
 "metadata": {
  "kernelspec": {
   "display_name": "arm",
   "language": "python",
   "name": "arm"
  },
  "language_info": {
   "codemirror_mode": {
    "name": "ipython",
    "version": 3
   },
   "file_extension": ".py",
   "mimetype": "text/x-python",
   "name": "python",
   "nbconvert_exporter": "python",
   "pygments_lexer": "ipython3",
   "version": "3.6.9"
  }
 },
 "nbformat": 4,
 "nbformat_minor": 2
}
